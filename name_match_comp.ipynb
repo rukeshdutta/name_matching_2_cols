{
 "cells": [
  {
   "cell_type": "code",
   "execution_count": 1,
   "metadata": {},
   "outputs": [],
   "source": [
    "import pandas as pd\n",
    "import re \n",
    "\n",
    "df=pd.read_csv('20220906 competitor_final.csv')"
   ]
  },
  {
   "cell_type": "code",
   "execution_count": null,
   "metadata": {},
   "outputs": [],
   "source": [
    "df.head()"
   ]
  },
  {
   "cell_type": "code",
   "execution_count": 2,
   "metadata": {},
   "outputs": [],
   "source": [
    "df[['DARAZ_PROD','COMP_PROD']]= df[['PRODUCT_NAME','ITEM_NAME']].apply(lambda x:x.str.split(' '))"
   ]
  },
  {
   "cell_type": "code",
   "execution_count": 11,
   "metadata": {},
   "outputs": [],
   "source": [
    "df[['DARAZ_BRAND','COMP_BRAND']] = df[['DARAZ_PROD','COMP_PROD']].applymap(lambda x:x[0])\n"
   ]
  },
  {
   "cell_type": "code",
   "execution_count": 13,
   "metadata": {},
   "outputs": [],
   "source": [
    "bm = df[df['DARAZ_BRAND']==df['COMP_BRAND']]"
   ]
  },
  {
   "cell_type": "code",
   "execution_count": 14,
   "metadata": {},
   "outputs": [
    {
     "name": "stderr",
     "output_type": "stream",
     "text": [
      "/var/folders/3z/4z1smsw9547fbd9bl4wqz20c0000gn/T/ipykernel_3222/2918920469.py:1: SettingWithCopyWarning: \n",
      "A value is trying to be set on a copy of a slice from a DataFrame.\n",
      "Try using .loc[row_indexer,col_indexer] = value instead\n",
      "\n",
      "See the caveats in the documentation: https://pandas.pydata.org/pandas-docs/stable/user_guide/indexing.html#returning-a-view-versus-a-copy\n",
      "  bm['MATCHED_WORD_COUNT'] = [len(set(a).intersection(b)) for a, b in zip(bm['DARAZ_PROD'], bm['COMP_PROD'])]\n"
     ]
    }
   ],
   "source": [
    "bm['MATCHED_WORD_COUNT'] = [len(set(a).intersection(b)) for a, b in zip(bm['DARAZ_PROD'], bm['COMP_PROD'])]\n",
    "    "
   ]
  },
  {
   "cell_type": "code",
   "execution_count": 15,
   "metadata": {},
   "outputs": [
    {
     "name": "stderr",
     "output_type": "stream",
     "text": [
      "/var/folders/3z/4z1smsw9547fbd9bl4wqz20c0000gn/T/ipykernel_3222/2259896804.py:1: SettingWithCopyWarning: \n",
      "A value is trying to be set on a copy of a slice from a DataFrame.\n",
      "Try using .loc[row_indexer,col_indexer] = value instead\n",
      "\n",
      "See the caveats in the documentation: https://pandas.pydata.org/pandas-docs/stable/user_guide/indexing.html#returning-a-view-versus-a-copy\n",
      "  bm['LOW_C']= bm[['DARAZ_PROD','COMP_PROD']].applymap(len).min(axis=1)\n"
     ]
    }
   ],
   "source": [
    "bm['LOW_C']= bm[['DARAZ_PROD','COMP_PROD']].applymap(len).min(axis=1)"
   ]
  },
  {
   "cell_type": "code",
   "execution_count": 16,
   "metadata": {},
   "outputs": [
    {
     "name": "stderr",
     "output_type": "stream",
     "text": [
      "/var/folders/3z/4z1smsw9547fbd9bl4wqz20c0000gn/T/ipykernel_3222/330687121.py:1: SettingWithCopyWarning: \n",
      "A value is trying to be set on a copy of a slice from a DataFrame.\n",
      "Try using .loc[row_indexer,col_indexer] = value instead\n",
      "\n",
      "See the caveats in the documentation: https://pandas.pydata.org/pandas-docs/stable/user_guide/indexing.html#returning-a-view-versus-a-copy\n",
      "  bm['MR'] = bm['MATCHED_WORD_COUNT']/bm['LOW_C']\n"
     ]
    }
   ],
   "source": [
    "bm['MR'] = bm['MATCHED_WORD_COUNT']/bm['LOW_C']"
   ]
  },
  {
   "cell_type": "code",
   "execution_count": null,
   "metadata": {},
   "outputs": [],
   "source": [
    "df.head()"
   ]
  },
  {
   "cell_type": "code",
   "execution_count": 17,
   "metadata": {},
   "outputs": [],
   "source": [
    "tg_list =bm[bm['MR']>0.7]"
   ]
  },
  {
   "cell_type": "code",
   "execution_count": 18,
   "metadata": {},
   "outputs": [
    {
     "data": {
      "text/plain": [
       "11134"
      ]
     },
     "execution_count": 18,
     "metadata": {},
     "output_type": "execute_result"
    }
   ],
   "source": [
    "len(tg_list)"
   ]
  },
  {
   "cell_type": "code",
   "execution_count": 19,
   "metadata": {},
   "outputs": [
    {
     "data": {
      "text/html": [
       "<div>\n",
       "<style scoped>\n",
       "    .dataframe tbody tr th:only-of-type {\n",
       "        vertical-align: middle;\n",
       "    }\n",
       "\n",
       "    .dataframe tbody tr th {\n",
       "        vertical-align: top;\n",
       "    }\n",
       "\n",
       "    .dataframe thead th {\n",
       "        text-align: right;\n",
       "    }\n",
       "</style>\n",
       "<table border=\"1\" class=\"dataframe\">\n",
       "  <thead>\n",
       "    <tr style=\"text-align: right;\">\n",
       "      <th></th>\n",
       "      <th>PRODUCT_NAME</th>\n",
       "      <th>DARAZ_SKU</th>\n",
       "      <th>COMP_ID</th>\n",
       "      <th>ITEM_NAME</th>\n",
       "      <th>ITEM_URL</th>\n",
       "      <th>ITEM_ID</th>\n",
       "      <th>PROMO_PRICE</th>\n",
       "      <th>DARAZ_PROD</th>\n",
       "      <th>COMP_PROD</th>\n",
       "      <th>DARAZ_BRAND</th>\n",
       "      <th>COMP_BRAND</th>\n",
       "      <th>MATCHED_WORD_COUNT</th>\n",
       "      <th>LOW_C</th>\n",
       "      <th>MR</th>\n",
       "    </tr>\n",
       "  </thead>\n",
       "  <tbody>\n",
       "    <tr>\n",
       "      <th>6153</th>\n",
       "      <td>Indian Orange Brand Blender Mixer &amp; Grinder Ju...</td>\n",
       "      <td>173740519_BD-1110374890</td>\n",
       "      <td>PICK-BD-75991</td>\n",
       "      <td>Indian Orange brand Blender Mixer &amp; Grinder Ju...</td>\n",
       "      <td>https://www.pickaboo.com/indian-orange-brand-b...</td>\n",
       "      <td>PICK-BD-75991</td>\n",
       "      <td>4950.0</td>\n",
       "      <td>[Indian, Orange, Brand, Blender, Mixer, &amp;, Gri...</td>\n",
       "      <td>[Indian, Orange, brand, Blender, Mixer, &amp;, Gri...</td>\n",
       "      <td>Indian</td>\n",
       "      <td>Indian</td>\n",
       "      <td>12</td>\n",
       "      <td>17</td>\n",
       "      <td>0.705882</td>\n",
       "    </tr>\n",
       "    <tr>\n",
       "      <th>65906</th>\n",
       "      <td>D-Link DIR-615 X1 N300 Broadband Wireless Dual...</td>\n",
       "      <td>238370494_BD-1181899019</td>\n",
       "      <td>PICK-BD-8044</td>\n",
       "      <td>D-Link DIR-615 (Ver X1) Wireless N300 Router</td>\n",
       "      <td>https://www.pickaboo.com/d-link-dir-615-ver-x1...</td>\n",
       "      <td>PICK-BD-8044</td>\n",
       "      <td>1350.0</td>\n",
       "      <td>[D-Link, DIR-615, X1, N300, Broadband, Wireles...</td>\n",
       "      <td>[D-Link, DIR-615, (Ver, X1), Wireless, N300, R...</td>\n",
       "      <td>D-Link</td>\n",
       "      <td>D-Link</td>\n",
       "      <td>5</td>\n",
       "      <td>7</td>\n",
       "      <td>0.714286</td>\n",
       "    </tr>\n",
       "    <tr>\n",
       "      <th>11604</th>\n",
       "      <td>Remax RPP-166 20000mAh 2.1A 10W Fast Charge La...</td>\n",
       "      <td>226025908_BD-1170805736</td>\n",
       "      <td>PICK-BD-75718</td>\n",
       "      <td>Remax RPP-106 20000mAh Fizi Series Power Bank</td>\n",
       "      <td>https://www.pickaboo.com/remax-rpp-106-20000ma...</td>\n",
       "      <td>PICK-BD-75718</td>\n",
       "      <td>1450.0</td>\n",
       "      <td>[Remax, RPP-166, 20000mAh, 2.1A, 10W, Fast, Ch...</td>\n",
       "      <td>[Remax, RPP-106, 20000mAh, Fizi, Series, Power...</td>\n",
       "      <td>Remax</td>\n",
       "      <td>Remax</td>\n",
       "      <td>5</td>\n",
       "      <td>7</td>\n",
       "      <td>0.714286</td>\n",
       "    </tr>\n",
       "    <tr>\n",
       "      <th>36333</th>\n",
       "      <td>Midea 2 Ton Inverter ac Air Conditioner ( 6 ye...</td>\n",
       "      <td>164748399_BD-1097630053</td>\n",
       "      <td>PICK-BD-81785</td>\n",
       "      <td>Midea 2 Ton Non-Inverter Air Conditioner (MSG2...</td>\n",
       "      <td>https://www.pickaboo.com/midea-2-ton-non-inver...</td>\n",
       "      <td>PICK-BD-81785</td>\n",
       "      <td>47490.0</td>\n",
       "      <td>[Midea, 2, Ton, Inverter, ac, Air, Conditioner...</td>\n",
       "      <td>[Midea, 2, Ton, Non-Inverter, Air, Conditioner...</td>\n",
       "      <td>Midea</td>\n",
       "      <td>Midea</td>\n",
       "      <td>5</td>\n",
       "      <td>7</td>\n",
       "      <td>0.714286</td>\n",
       "    </tr>\n",
       "    <tr>\n",
       "      <th>36368</th>\n",
       "      <td>Remax RM 610D Super Bass Quality In-Ear Headph...</td>\n",
       "      <td>215508816_BD-1164034024</td>\n",
       "      <td>PICK-BD-53038</td>\n",
       "      <td>Remax RM 610D Hi Basse Wired Earphone</td>\n",
       "      <td>https://www.pickaboo.com/remax-rm-610d-hi-bass...</td>\n",
       "      <td>PICK-BD-53038</td>\n",
       "      <td>570.0</td>\n",
       "      <td>[Remax, RM, 610D, Super, Bass, Quality, In-Ear...</td>\n",
       "      <td>[Remax, RM, 610D, Hi, Basse, Wired, Earphone]</td>\n",
       "      <td>Remax</td>\n",
       "      <td>Remax</td>\n",
       "      <td>5</td>\n",
       "      <td>7</td>\n",
       "      <td>0.714286</td>\n",
       "    </tr>\n",
       "    <tr>\n",
       "      <th>...</th>\n",
       "      <td>...</td>\n",
       "      <td>...</td>\n",
       "      <td>...</td>\n",
       "      <td>...</td>\n",
       "      <td>...</td>\n",
       "      <td>...</td>\n",
       "      <td>...</td>\n",
       "      <td>...</td>\n",
       "      <td>...</td>\n",
       "      <td>...</td>\n",
       "      <td>...</td>\n",
       "      <td>...</td>\n",
       "      <td>...</td>\n",
       "      <td>...</td>\n",
       "    </tr>\n",
       "    <tr>\n",
       "      <th>36388</th>\n",
       "      <td>UIISII C100 In-Ear Earphone with Mic Black</td>\n",
       "      <td>224125542_BD-1169895234</td>\n",
       "      <td>PICK-BD-72639</td>\n",
       "      <td>UIISII C100 In-Ear Earphone with Mic</td>\n",
       "      <td>https://www.pickaboo.com/uiisii-c100-in-ear-ea...</td>\n",
       "      <td>PICK-BD-72639</td>\n",
       "      <td>0.0</td>\n",
       "      <td>[UIISII, C100, In-Ear, Earphone, with, Mic, Bl...</td>\n",
       "      <td>[UIISII, C100, In-Ear, Earphone, with, Mic]</td>\n",
       "      <td>UIISII</td>\n",
       "      <td>UIISII</td>\n",
       "      <td>6</td>\n",
       "      <td>6</td>\n",
       "      <td>1.000000</td>\n",
       "    </tr>\n",
       "    <tr>\n",
       "      <th>36387</th>\n",
       "      <td>UIISII C100 In-Ear Earphone with Mic Black</td>\n",
       "      <td>224125542_BD-1169895234</td>\n",
       "      <td>PICK-BD-72639</td>\n",
       "      <td>UIISII C100 In-Ear Earphone with Mic</td>\n",
       "      <td>https://www.pickaboo.com/uiisii-c100-in-ear-ea...</td>\n",
       "      <td>PICK-BD-72639</td>\n",
       "      <td>215.0</td>\n",
       "      <td>[UIISII, C100, In-Ear, Earphone, with, Mic, Bl...</td>\n",
       "      <td>[UIISII, C100, In-Ear, Earphone, with, Mic]</td>\n",
       "      <td>UIISII</td>\n",
       "      <td>UIISII</td>\n",
       "      <td>6</td>\n",
       "      <td>6</td>\n",
       "      <td>1.000000</td>\n",
       "    </tr>\n",
       "    <tr>\n",
       "      <th>62839</th>\n",
       "      <td>Lenovo HE05x Sports Magnetic Wireless Earphones</td>\n",
       "      <td>193715128_BD-1140270363</td>\n",
       "      <td>PICK-BD-76687</td>\n",
       "      <td>Lenovo HE05x Sports Magnetic Wireless Neckband...</td>\n",
       "      <td>https://www.pickaboo.com/lenovo-he05x-sports-m...</td>\n",
       "      <td>PICK-BD-76687</td>\n",
       "      <td>479.0</td>\n",
       "      <td>[Lenovo, HE05x, Sports, Magnetic, Wireless, Ea...</td>\n",
       "      <td>[Lenovo, HE05x, Sports, Magnetic, Wireless, Ne...</td>\n",
       "      <td>Lenovo</td>\n",
       "      <td>Lenovo</td>\n",
       "      <td>6</td>\n",
       "      <td>6</td>\n",
       "      <td>1.000000</td>\n",
       "    </tr>\n",
       "    <tr>\n",
       "      <th>35692</th>\n",
       "      <td>Lenovo LivePods LP1 True Wireless Earbuds</td>\n",
       "      <td>245579949_BD-1189594404</td>\n",
       "      <td>PICK-BD-74424</td>\n",
       "      <td>Lenovo LivePods LP1 True Wireless Earbuds</td>\n",
       "      <td>https://www.pickaboo.com/lenovo-livepods-lp1-t...</td>\n",
       "      <td>PICK-BD-74424</td>\n",
       "      <td>890.0</td>\n",
       "      <td>[Lenovo, LivePods, LP1, True, Wireless, Earbuds]</td>\n",
       "      <td>[Lenovo, LivePods, LP1, True, Wireless, Earbuds]</td>\n",
       "      <td>Lenovo</td>\n",
       "      <td>Lenovo</td>\n",
       "      <td>6</td>\n",
       "      <td>6</td>\n",
       "      <td>1.000000</td>\n",
       "    </tr>\n",
       "    <tr>\n",
       "      <th>20</th>\n",
       "      <td>Pantene Advanced Hair Fall Solution, Anti-Hair...</td>\n",
       "      <td>129890729_BD-1049690050</td>\n",
       "      <td>PAND-BD-2189759</td>\n",
       "      <td>Pantene Advanced Hair Fall Solution, Anti-Hair...</td>\n",
       "      <td>NaN</td>\n",
       "      <td>PAND-BD-2189759</td>\n",
       "      <td>216.0</td>\n",
       "      <td>[Pantene, Advanced, Hair, Fall, Solution,, Ant...</td>\n",
       "      <td>[Pantene, Advanced, Hair, Fall, Solution,, Ant...</td>\n",
       "      <td>Pantene</td>\n",
       "      <td>Pantene</td>\n",
       "      <td>11</td>\n",
       "      <td>11</td>\n",
       "      <td>1.000000</td>\n",
       "    </tr>\n",
       "  </tbody>\n",
       "</table>\n",
       "<p>11134 rows × 14 columns</p>\n",
       "</div>"
      ],
      "text/plain": [
       "                                            PRODUCT_NAME  \\\n",
       "6153   Indian Orange Brand Blender Mixer & Grinder Ju...   \n",
       "65906  D-Link DIR-615 X1 N300 Broadband Wireless Dual...   \n",
       "11604  Remax RPP-166 20000mAh 2.1A 10W Fast Charge La...   \n",
       "36333  Midea 2 Ton Inverter ac Air Conditioner ( 6 ye...   \n",
       "36368  Remax RM 610D Super Bass Quality In-Ear Headph...   \n",
       "...                                                  ...   \n",
       "36388         UIISII C100 In-Ear Earphone with Mic Black   \n",
       "36387         UIISII C100 In-Ear Earphone with Mic Black   \n",
       "62839    Lenovo HE05x Sports Magnetic Wireless Earphones   \n",
       "35692          Lenovo LivePods LP1 True Wireless Earbuds   \n",
       "20     Pantene Advanced Hair Fall Solution, Anti-Hair...   \n",
       "\n",
       "                     DARAZ_SKU          COMP_ID  \\\n",
       "6153   173740519_BD-1110374890    PICK-BD-75991   \n",
       "65906  238370494_BD-1181899019     PICK-BD-8044   \n",
       "11604  226025908_BD-1170805736    PICK-BD-75718   \n",
       "36333  164748399_BD-1097630053    PICK-BD-81785   \n",
       "36368  215508816_BD-1164034024    PICK-BD-53038   \n",
       "...                        ...              ...   \n",
       "36388  224125542_BD-1169895234    PICK-BD-72639   \n",
       "36387  224125542_BD-1169895234    PICK-BD-72639   \n",
       "62839  193715128_BD-1140270363    PICK-BD-76687   \n",
       "35692  245579949_BD-1189594404    PICK-BD-74424   \n",
       "20     129890729_BD-1049690050  PAND-BD-2189759   \n",
       "\n",
       "                                               ITEM_NAME  \\\n",
       "6153   Indian Orange brand Blender Mixer & Grinder Ju...   \n",
       "65906       D-Link DIR-615 (Ver X1) Wireless N300 Router   \n",
       "11604      Remax RPP-106 20000mAh Fizi Series Power Bank   \n",
       "36333  Midea 2 Ton Non-Inverter Air Conditioner (MSG2...   \n",
       "36368              Remax RM 610D Hi Basse Wired Earphone   \n",
       "...                                                  ...   \n",
       "36388               UIISII C100 In-Ear Earphone with Mic   \n",
       "36387               UIISII C100 In-Ear Earphone with Mic   \n",
       "62839  Lenovo HE05x Sports Magnetic Wireless Neckband...   \n",
       "35692          Lenovo LivePods LP1 True Wireless Earbuds   \n",
       "20     Pantene Advanced Hair Fall Solution, Anti-Hair...   \n",
       "\n",
       "                                                ITEM_URL          ITEM_ID  \\\n",
       "6153   https://www.pickaboo.com/indian-orange-brand-b...    PICK-BD-75991   \n",
       "65906  https://www.pickaboo.com/d-link-dir-615-ver-x1...     PICK-BD-8044   \n",
       "11604  https://www.pickaboo.com/remax-rpp-106-20000ma...    PICK-BD-75718   \n",
       "36333  https://www.pickaboo.com/midea-2-ton-non-inver...    PICK-BD-81785   \n",
       "36368  https://www.pickaboo.com/remax-rm-610d-hi-bass...    PICK-BD-53038   \n",
       "...                                                  ...              ...   \n",
       "36388  https://www.pickaboo.com/uiisii-c100-in-ear-ea...    PICK-BD-72639   \n",
       "36387  https://www.pickaboo.com/uiisii-c100-in-ear-ea...    PICK-BD-72639   \n",
       "62839  https://www.pickaboo.com/lenovo-he05x-sports-m...    PICK-BD-76687   \n",
       "35692  https://www.pickaboo.com/lenovo-livepods-lp1-t...    PICK-BD-74424   \n",
       "20                                                   NaN  PAND-BD-2189759   \n",
       "\n",
       "       PROMO_PRICE                                         DARAZ_PROD  \\\n",
       "6153        4950.0  [Indian, Orange, Brand, Blender, Mixer, &, Gri...   \n",
       "65906       1350.0  [D-Link, DIR-615, X1, N300, Broadband, Wireles...   \n",
       "11604       1450.0  [Remax, RPP-166, 20000mAh, 2.1A, 10W, Fast, Ch...   \n",
       "36333      47490.0  [Midea, 2, Ton, Inverter, ac, Air, Conditioner...   \n",
       "36368        570.0  [Remax, RM, 610D, Super, Bass, Quality, In-Ear...   \n",
       "...            ...                                                ...   \n",
       "36388          0.0  [UIISII, C100, In-Ear, Earphone, with, Mic, Bl...   \n",
       "36387        215.0  [UIISII, C100, In-Ear, Earphone, with, Mic, Bl...   \n",
       "62839        479.0  [Lenovo, HE05x, Sports, Magnetic, Wireless, Ea...   \n",
       "35692        890.0   [Lenovo, LivePods, LP1, True, Wireless, Earbuds]   \n",
       "20           216.0  [Pantene, Advanced, Hair, Fall, Solution,, Ant...   \n",
       "\n",
       "                                               COMP_PROD DARAZ_BRAND  \\\n",
       "6153   [Indian, Orange, brand, Blender, Mixer, &, Gri...      Indian   \n",
       "65906  [D-Link, DIR-615, (Ver, X1), Wireless, N300, R...      D-Link   \n",
       "11604  [Remax, RPP-106, 20000mAh, Fizi, Series, Power...       Remax   \n",
       "36333  [Midea, 2, Ton, Non-Inverter, Air, Conditioner...       Midea   \n",
       "36368      [Remax, RM, 610D, Hi, Basse, Wired, Earphone]       Remax   \n",
       "...                                                  ...         ...   \n",
       "36388        [UIISII, C100, In-Ear, Earphone, with, Mic]      UIISII   \n",
       "36387        [UIISII, C100, In-Ear, Earphone, with, Mic]      UIISII   \n",
       "62839  [Lenovo, HE05x, Sports, Magnetic, Wireless, Ne...      Lenovo   \n",
       "35692   [Lenovo, LivePods, LP1, True, Wireless, Earbuds]      Lenovo   \n",
       "20     [Pantene, Advanced, Hair, Fall, Solution,, Ant...     Pantene   \n",
       "\n",
       "      COMP_BRAND  MATCHED_WORD_COUNT  LOW_C        MR  \n",
       "6153      Indian                  12     17  0.705882  \n",
       "65906     D-Link                   5      7  0.714286  \n",
       "11604      Remax                   5      7  0.714286  \n",
       "36333      Midea                   5      7  0.714286  \n",
       "36368      Remax                   5      7  0.714286  \n",
       "...          ...                 ...    ...       ...  \n",
       "36388     UIISII                   6      6  1.000000  \n",
       "36387     UIISII                   6      6  1.000000  \n",
       "62839     Lenovo                   6      6  1.000000  \n",
       "35692     Lenovo                   6      6  1.000000  \n",
       "20       Pantene                  11     11  1.000000  \n",
       "\n",
       "[11134 rows x 14 columns]"
      ]
     },
     "execution_count": 19,
     "metadata": {},
     "output_type": "execute_result"
    }
   ],
   "source": [
    "tg_list.sort_values(['MR'])"
   ]
  },
  {
   "cell_type": "code",
   "execution_count": 20,
   "metadata": {},
   "outputs": [],
   "source": [
    "tg_list.to_csv('macthed.csv')"
   ]
  },
  {
   "cell_type": "code",
   "execution_count": null,
   "metadata": {},
   "outputs": [],
   "source": []
  }
 ],
 "metadata": {
  "kernelspec": {
   "display_name": "Python 3.10.5 64-bit",
   "language": "python",
   "name": "python3"
  },
  "language_info": {
   "codemirror_mode": {
    "name": "ipython",
    "version": 3
   },
   "file_extension": ".py",
   "mimetype": "text/x-python",
   "name": "python",
   "nbconvert_exporter": "python",
   "pygments_lexer": "ipython3",
   "version": "3.10.5"
  },
  "orig_nbformat": 4,
  "vscode": {
   "interpreter": {
    "hash": "aee8b7b246df8f9039afb4144a1f6fd8d2ca17a180786b69acc140d282b71a49"
   }
  }
 },
 "nbformat": 4,
 "nbformat_minor": 2
}
