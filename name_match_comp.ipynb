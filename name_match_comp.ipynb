{
 "cells": [
  {
   "cell_type": "code",
   "execution_count": 1,
   "metadata": {},
   "outputs": [],
   "source": [
    "import pandas as pd\n",
    "import re \n",
    "pd.options.mode.chained_assignment = None\n",
    "df=pd.read_csv('20220906 competitor_final.csv')"
   ]
  },
  {
   "cell_type": "code",
   "execution_count": 2,
   "metadata": {},
   "outputs": [],
   "source": [
    "similar_units = {'PCS': 'PC',\n",
    "                 'PC': 'PC',\n",
    "                 'PIECES':'PC',\n",
    "                 'KG': 'KILOGRAM',\n",
    "                 'KGS': 'KILOGRAM',\n",
    "                 'GM':'GRAM',\n",
    "                 'GMS':'GRAM',\n",
    "                 'LTR':'LITRE',\n",
    "                 'LITRES':'LITRE',\n",
    "                 'LITER':'LITRE',\n",
    "                 'WATTS':'WATT',\n",
    "                 'FT':'FEET',\n",
    "                 'LTE':'LITE',\n",
    "                 'INCHES':'INCH',\n",
    "                 '\"':'INCH',\n",
    "                 'FEETS':'FEET',\n",
    "                 'B1G1':'BOGO',\n",
    "                 'BUY 1 GET 1':'BOGO',\n",
    "                 'BTU':'BTUS',\n",
    "                 'TON':'TON',\n",
    "                 'TN':'TON',\n",
    "                 'MG':'ML',\n",
    "                 'ML':'ML',\n",
    "                 'SINGLE PACK': '1PC',\n",
    "                 'SINGLE PIECE':'1PC',\n",
    "                 'SINGLE PC':'1PC',\n",
    "                 'SACHETS':'SACHET',\n",
    "                 'STICKS':'STICK'\n",
    "                 }\n",
    "ignore_words = {'FREE','COMBO','BUNDLE','CASE',\n",
    "'WARRANTY','GUARANTEE','SET',\n",
    "'WHITE','BLACK','SILVER','BLUE','RED','GREEN','YELLOW','GREY',\n",
    "'CARTON'}\n",
    "regex_ignore = '\\D+x\\D+'"
   ]
  },
  {
   "cell_type": "code",
   "execution_count": 6,
   "metadata": {},
   "outputs": [],
   "source": [
    "def name_processing(accuracy=0.7,reject_ignore_words=True):\n",
    "    name_cols = ['PRODUCT_NAME','ITEM_NAME']\n",
    "    modified_cols = ['DARAZ_PROD','COMP_PROD']\n",
    "    brand_cols = ['DARAZ_BRAND','COMP_BRAND']\n",
    "    # splitting into list of uppercased words\n",
    "    df[modified_cols]= df[name_cols].apply(lambda x:x.str.upper())\n",
    "    for word, initial in similar_units.items():\n",
    "        df[modified_cols]= df[modified_cols].apply(lambda x:x.str.replace(word,initial))\n",
    "    df[modified_cols]= df[modified_cols].apply(lambda x:x.str.split(' '))\n",
    "    # removing ignore words\n",
    "    if reject_ignore_words:\n",
    "        df[modified_cols]= df[modified_cols].applymap(lambda x:[ele for ele in x if ele not in ignore_words])\n",
    "    else:\n",
    "        pass    \n",
    "    # matching the first word as brand name\n",
    "    df[brand_cols] = df[modified_cols].applymap(lambda x:x[0])\n",
    "    bm = df[df['DARAZ_BRAND']==df['COMP_BRAND']]\n",
    "    # taking count of matched words between two columns/companies\n",
    "    bm['MATCHED_WORD_COUNT'] = [len(set(a).intersection(b)) for a, b in zip(bm['DARAZ_PROD'], bm['COMP_PROD'])]\n",
    "    # taking the lowest count of word\n",
    "    bm['LOW_C']= bm[modified_cols].applymap(len).min(axis=1)\n",
    "    bm['MR'] = bm['MATCHED_WORD_COUNT']/bm['LOW_C']\n",
    "    # setting the accuracy rate\n",
    "    tg_list =bm[bm['MR']>accuracy]\n",
    "    return tg_list.sort_values(['MR'])\n"
   ]
  },
  {
   "cell_type": "code",
   "execution_count": 9,
   "metadata": {},
   "outputs": [],
   "source": [
    "name_processing(reject_ignore_words=True).to_clipboard()"
   ]
  },
  {
   "cell_type": "code",
   "execution_count": null,
   "metadata": {},
   "outputs": [],
   "source": []
  }
 ],
 "metadata": {
  "kernelspec": {
   "display_name": "Python 3.10.5 64-bit",
   "language": "python",
   "name": "python3"
  },
  "language_info": {
   "codemirror_mode": {
    "name": "ipython",
    "version": 3
   },
   "file_extension": ".py",
   "mimetype": "text/x-python",
   "name": "python",
   "nbconvert_exporter": "python",
   "pygments_lexer": "ipython3",
   "version": "3.10.5"
  },
  "orig_nbformat": 4,
  "vscode": {
   "interpreter": {
    "hash": "aee8b7b246df8f9039afb4144a1f6fd8d2ca17a180786b69acc140d282b71a49"
   }
  }
 },
 "nbformat": 4,
 "nbformat_minor": 2
}
